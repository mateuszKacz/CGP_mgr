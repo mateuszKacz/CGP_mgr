{
 "cells": [
  {
   "cell_type": "code",
   "execution_count": 1,
   "metadata": {},
   "outputs": [
    {
     "ename": "ModuleNotFoundError",
     "evalue": "No module named 'pandas._libs.join'",
     "output_type": "error",
     "traceback": [
      "\u001b[0;31m---------------------------------------------------------------------------\u001b[0m",
      "\u001b[0;31mModuleNotFoundError\u001b[0m                       Traceback (most recent call last)",
      "\u001b[0;32m/var/folders/qv/0wy8fhfs3z3dd9nnbrh_w70c0000gn/T/ipykernel_1634/210761119.py\u001b[0m in \u001b[0;36m<module>\u001b[0;34m\u001b[0m\n\u001b[1;32m      1\u001b[0m \u001b[0;32mimport\u001b[0m \u001b[0mmatplotlib\u001b[0m\u001b[0;34m.\u001b[0m\u001b[0mpyplot\u001b[0m \u001b[0;32mas\u001b[0m \u001b[0mplt\u001b[0m\u001b[0;34m\u001b[0m\u001b[0;34m\u001b[0m\u001b[0m\n\u001b[1;32m      2\u001b[0m \u001b[0;32mimport\u001b[0m \u001b[0mpathlib\u001b[0m\u001b[0;34m\u001b[0m\u001b[0;34m\u001b[0m\u001b[0m\n\u001b[0;32m----> 3\u001b[0;31m \u001b[0;32mimport\u001b[0m \u001b[0mpandas\u001b[0m \u001b[0;32mas\u001b[0m \u001b[0mpd\u001b[0m\u001b[0;34m\u001b[0m\u001b[0;34m\u001b[0m\u001b[0m\n\u001b[0m\u001b[1;32m      4\u001b[0m \u001b[0;32mfrom\u001b[0m \u001b[0mtyping\u001b[0m \u001b[0;32mimport\u001b[0m \u001b[0mList\u001b[0m\u001b[0;34m\u001b[0m\u001b[0;34m\u001b[0m\u001b[0m\n\u001b[1;32m      5\u001b[0m \u001b[0;32mimport\u001b[0m \u001b[0mseaborn\u001b[0m \u001b[0;32mas\u001b[0m \u001b[0msbn\u001b[0m\u001b[0;34m\u001b[0m\u001b[0;34m\u001b[0m\u001b[0m\n",
      "\u001b[0;32m~/Desktop/EDMI/Mgr/CGP_mgr/venv/lib/python3.8/site-packages/pandas/__init__.py\u001b[0m in \u001b[0;36m<module>\u001b[0;34m\u001b[0m\n\u001b[1;32m     48\u001b[0m \u001b[0;32mimport\u001b[0m \u001b[0mpandas\u001b[0m\u001b[0;34m.\u001b[0m\u001b[0mcore\u001b[0m\u001b[0;34m.\u001b[0m\u001b[0mconfig_init\u001b[0m\u001b[0;34m\u001b[0m\u001b[0;34m\u001b[0m\u001b[0m\n\u001b[1;32m     49\u001b[0m \u001b[0;34m\u001b[0m\u001b[0m\n\u001b[0;32m---> 50\u001b[0;31m from pandas.core.api import (\n\u001b[0m\u001b[1;32m     51\u001b[0m     \u001b[0;31m# dtype\u001b[0m\u001b[0;34m\u001b[0m\u001b[0;34m\u001b[0m\u001b[0;34m\u001b[0m\u001b[0m\n\u001b[1;32m     52\u001b[0m     \u001b[0mInt8Dtype\u001b[0m\u001b[0;34m,\u001b[0m\u001b[0;34m\u001b[0m\u001b[0;34m\u001b[0m\u001b[0m\n",
      "\u001b[0;32m~/Desktop/EDMI/Mgr/CGP_mgr/venv/lib/python3.8/site-packages/pandas/core/api.py\u001b[0m in \u001b[0;36m<module>\u001b[0;34m\u001b[0m\n\u001b[1;32m     27\u001b[0m     \u001b[0mvalue_counts\u001b[0m\u001b[0;34m,\u001b[0m\u001b[0;34m\u001b[0m\u001b[0;34m\u001b[0m\u001b[0m\n\u001b[1;32m     28\u001b[0m )\n\u001b[0;32m---> 29\u001b[0;31m \u001b[0;32mfrom\u001b[0m \u001b[0mpandas\u001b[0m\u001b[0;34m.\u001b[0m\u001b[0mcore\u001b[0m\u001b[0;34m.\u001b[0m\u001b[0marrays\u001b[0m \u001b[0;32mimport\u001b[0m \u001b[0mCategorical\u001b[0m\u001b[0;34m\u001b[0m\u001b[0;34m\u001b[0m\u001b[0m\n\u001b[0m\u001b[1;32m     30\u001b[0m \u001b[0;32mfrom\u001b[0m \u001b[0mpandas\u001b[0m\u001b[0;34m.\u001b[0m\u001b[0mcore\u001b[0m\u001b[0;34m.\u001b[0m\u001b[0marrays\u001b[0m\u001b[0;34m.\u001b[0m\u001b[0mboolean\u001b[0m \u001b[0;32mimport\u001b[0m \u001b[0mBooleanDtype\u001b[0m\u001b[0;34m\u001b[0m\u001b[0;34m\u001b[0m\u001b[0m\n\u001b[1;32m     31\u001b[0m from pandas.core.arrays.floating import (\n",
      "\u001b[0;32m~/Desktop/EDMI/Mgr/CGP_mgr/venv/lib/python3.8/site-packages/pandas/core/arrays/__init__.py\u001b[0m in \u001b[0;36m<module>\u001b[0;34m\u001b[0m\n\u001b[1;32m      9\u001b[0m \u001b[0;32mfrom\u001b[0m \u001b[0mpandas\u001b[0m\u001b[0;34m.\u001b[0m\u001b[0mcore\u001b[0m\u001b[0;34m.\u001b[0m\u001b[0marrays\u001b[0m\u001b[0;34m.\u001b[0m\u001b[0mfloating\u001b[0m \u001b[0;32mimport\u001b[0m \u001b[0mFloatingArray\u001b[0m\u001b[0;34m\u001b[0m\u001b[0;34m\u001b[0m\u001b[0m\n\u001b[1;32m     10\u001b[0m \u001b[0;32mfrom\u001b[0m \u001b[0mpandas\u001b[0m\u001b[0;34m.\u001b[0m\u001b[0mcore\u001b[0m\u001b[0;34m.\u001b[0m\u001b[0marrays\u001b[0m\u001b[0;34m.\u001b[0m\u001b[0minteger\u001b[0m \u001b[0;32mimport\u001b[0m \u001b[0mIntegerArray\u001b[0m\u001b[0;34m\u001b[0m\u001b[0;34m\u001b[0m\u001b[0m\n\u001b[0;32m---> 11\u001b[0;31m \u001b[0;32mfrom\u001b[0m \u001b[0mpandas\u001b[0m\u001b[0;34m.\u001b[0m\u001b[0mcore\u001b[0m\u001b[0;34m.\u001b[0m\u001b[0marrays\u001b[0m\u001b[0;34m.\u001b[0m\u001b[0minterval\u001b[0m \u001b[0;32mimport\u001b[0m \u001b[0mIntervalArray\u001b[0m\u001b[0;34m\u001b[0m\u001b[0;34m\u001b[0m\u001b[0m\n\u001b[0m\u001b[1;32m     12\u001b[0m \u001b[0;32mfrom\u001b[0m \u001b[0mpandas\u001b[0m\u001b[0;34m.\u001b[0m\u001b[0mcore\u001b[0m\u001b[0;34m.\u001b[0m\u001b[0marrays\u001b[0m\u001b[0;34m.\u001b[0m\u001b[0mmasked\u001b[0m \u001b[0;32mimport\u001b[0m \u001b[0mBaseMaskedArray\u001b[0m\u001b[0;34m\u001b[0m\u001b[0;34m\u001b[0m\u001b[0m\n\u001b[1;32m     13\u001b[0m \u001b[0;32mfrom\u001b[0m \u001b[0mpandas\u001b[0m\u001b[0;34m.\u001b[0m\u001b[0mcore\u001b[0m\u001b[0;34m.\u001b[0m\u001b[0marrays\u001b[0m\u001b[0;34m.\u001b[0m\u001b[0mnumpy_\u001b[0m \u001b[0;32mimport\u001b[0m \u001b[0mPandasArray\u001b[0m\u001b[0;34m\u001b[0m\u001b[0;34m\u001b[0m\u001b[0m\n",
      "\u001b[0;32m~/Desktop/EDMI/Mgr/CGP_mgr/venv/lib/python3.8/site-packages/pandas/core/arrays/interval.py\u001b[0m in \u001b[0;36m<module>\u001b[0;34m\u001b[0m\n\u001b[1;32m     80\u001b[0m )\n\u001b[1;32m     81\u001b[0m \u001b[0;32mfrom\u001b[0m \u001b[0mpandas\u001b[0m\u001b[0;34m.\u001b[0m\u001b[0mcore\u001b[0m\u001b[0;34m.\u001b[0m\u001b[0mindexers\u001b[0m \u001b[0;32mimport\u001b[0m \u001b[0mcheck_array_indexer\u001b[0m\u001b[0;34m\u001b[0m\u001b[0;34m\u001b[0m\u001b[0m\n\u001b[0;32m---> 82\u001b[0;31m \u001b[0;32mfrom\u001b[0m \u001b[0mpandas\u001b[0m\u001b[0;34m.\u001b[0m\u001b[0mcore\u001b[0m\u001b[0;34m.\u001b[0m\u001b[0mindexes\u001b[0m\u001b[0;34m.\u001b[0m\u001b[0mbase\u001b[0m \u001b[0;32mimport\u001b[0m \u001b[0mensure_index\u001b[0m\u001b[0;34m\u001b[0m\u001b[0;34m\u001b[0m\u001b[0m\n\u001b[0m\u001b[1;32m     83\u001b[0m from pandas.core.ops import (\n\u001b[1;32m     84\u001b[0m     \u001b[0minvalid_comparison\u001b[0m\u001b[0;34m,\u001b[0m\u001b[0;34m\u001b[0m\u001b[0;34m\u001b[0m\u001b[0m\n",
      "\u001b[0;32m~/Desktop/EDMI/Mgr/CGP_mgr/venv/lib/python3.8/site-packages/pandas/core/indexes/base.py\u001b[0m in \u001b[0;36m<module>\u001b[0;34m\u001b[0m\n\u001b[1;32m     24\u001b[0m     \u001b[0mlib\u001b[0m\u001b[0;34m,\u001b[0m\u001b[0;34m\u001b[0m\u001b[0;34m\u001b[0m\u001b[0m\n\u001b[1;32m     25\u001b[0m )\n\u001b[0;32m---> 26\u001b[0;31m \u001b[0;32mimport\u001b[0m \u001b[0mpandas\u001b[0m\u001b[0;34m.\u001b[0m\u001b[0m_libs\u001b[0m\u001b[0;34m.\u001b[0m\u001b[0mjoin\u001b[0m \u001b[0;32mas\u001b[0m \u001b[0mlibjoin\u001b[0m\u001b[0;34m\u001b[0m\u001b[0;34m\u001b[0m\u001b[0m\n\u001b[0m\u001b[1;32m     27\u001b[0m from pandas._libs.lib import (\n\u001b[1;32m     28\u001b[0m     \u001b[0mis_datetime_array\u001b[0m\u001b[0;34m,\u001b[0m\u001b[0;34m\u001b[0m\u001b[0;34m\u001b[0m\u001b[0m\n",
      "\u001b[0;31mModuleNotFoundError\u001b[0m: No module named 'pandas._libs.join'"
     ]
    }
   ],
   "source": [
    "import matplotlib.pyplot as plt\n",
    "import pathlib\n",
    "import pandas as pd\n",
    "from typing import List\n",
    "import seaborn as sbn\n",
    "from IPython.display import Markdown\n",
    "sbn.set()"
   ]
  },
  {
   "cell_type": "code",
   "execution_count": null,
   "metadata": {},
   "outputs": [],
   "source": [
    "# MATPLOTLIB CONFIG\n",
    "plt.rcParams['axes.facecolor'] = 'white'"
   ]
  },
  {
   "cell_type": "code",
   "execution_count": null,
   "metadata": {},
   "outputs": [],
   "source": [
    "# sliwkowy, grafitowy, sloneczny, wrzosowy\n",
    "colors = ['#965F77', '#3C3C4C', '#FED542', '#B4A0AA']\n",
    "sbn.set_palette(sbn.color_palette(colors))"
   ]
  },
  {
   "cell_type": "code",
   "execution_count": null,
   "metadata": {},
   "outputs": [],
   "source": [
    "PROJECT_MAIN_PATH = pathlib.Path().absolute().parent\n",
    "CODE_MAIN_PATH = PROJECT_MAIN_PATH / 'src'\n",
    "DATA_MAIN_PATH = CODE_MAIN_PATH / 'data_gather'\n",
    "CHARTS_MAIN_PATH = PROJECT_MAIN_PATH / 'charts/PT'\n",
    "\n",
    "EVENCHECK_GATE_PT_PATH = DATA_MAIN_PATH / 'pt/EVENCHECKgate'"
   ]
  },
  {
   "cell_type": "markdown",
   "metadata": {},
   "source": [
    "# Metrics"
   ]
  },
  {
   "cell_type": "code",
   "execution_count": null,
   "metadata": {},
   "outputs": [],
   "source": [
    "def correct_rate(df: pd.DataFrame, column='potential') -> float:\n",
    "    return round(df[df[column]==0.0][column].count()/df[column].count() *100, 2)"
   ]
  },
  {
   "cell_type": "code",
   "execution_count": null,
   "metadata": {},
   "outputs": [],
   "source": [
    "def mean_number_of_steps(df: pd.DataFrame, calc_column='iteration', filter_column='potential') -> float:\n",
    "    return round(df[df[filter_column]==0.0][calc_column].mean(), 2)"
   ]
  },
  {
   "cell_type": "code",
   "execution_count": null,
   "metadata": {},
   "outputs": [],
   "source": [
    "def calc_mns_series(df: pd.DataFrame, groupby: str) -> pd.DataFrame:\n",
    "    indices = df[groupby].unique()\n",
    "    results = {groupby: [], 'mns': []}\n",
    "    for ind in indices:\n",
    "        results[groupby].append(ind)\n",
    "        results['mns'].append(mean_number_of_steps(df[df[groupby]==ind]))\n",
    "    return pd.DataFrame(results, index=results[groupby])"
   ]
  },
  {
   "cell_type": "code",
   "execution_count": null,
   "metadata": {},
   "outputs": [],
   "source": [
    "def calc_cr_series(df: pd.DataFrame, groupby: str) -> pd.DataFrame:\n",
    "    indices = df[groupby].unique()\n",
    "    results = {groupby: [], 'cr': []}\n",
    "    for ind in indices:\n",
    "        results[groupby].append(ind)\n",
    "        results['cr'].append(correct_rate(df[df[groupby]==ind]))\n",
    "    return pd.DataFrame(results, index=results[groupby])"
   ]
  },
  {
   "cell_type": "markdown",
   "metadata": {},
   "source": [
    "# Data loading"
   ]
  },
  {
   "cell_type": "code",
   "execution_count": null,
   "metadata": {},
   "outputs": [],
   "source": [
    "df_evencheck_pt_diff_switch_step = pd.read_csv(EVENCHECK_GATE_PT_PATH / 'pt_example_numsim30_switch_steps1_50_steps5000_pt_const_sa_const.csv')\n",
    "df_evencheck_pt_example = pd.read_csv(EVENCHECK_GATE_PT_PATH / 'pt_example_numsim300_switch_step10_steps5000_pt_const_sa_const.csv')\n",
    "df_evencheck_pt_optimal_temp_calc = pd.read_csv(EVENCHECK_GATE_PT_PATH / 'pt_evencheck_numsim300_switch_step10_steps5000_ptscheme_gaussian1_sa_const_optimal_temp_calculation.csv')\n",
    "df_evencheck_pt_optimal_number_of_copies = pd.read_csv(EVENCHECK_GATE_PT_PATH / 'pt_evencheck_numsim50_switch_step40_steps5000_ptscheme_gaussian1_sa_const_optimal_num_of_copies.csv')\n",
    "df_evencheck_pt_optimal_number_of_max_steps = pd.read_csv(EVENCHECK_GATE_PT_PATH / 'pt_evencheck_numsim50_switch_step40_steps[100, 1000, 10000]_ptscheme_gaussian1_sa_const_optimal_max_steps.csv')"
   ]
  },
  {
   "cell_type": "markdown",
   "metadata": {},
   "source": [
    "# Analysis"
   ]
  },
  {
   "cell_type": "markdown",
   "metadata": {},
   "source": [
    "## Parallel Tempering example"
   ]
  },
  {
   "cell_type": "code",
   "execution_count": null,
   "metadata": {},
   "outputs": [],
   "source": [
    "def plot_scatter(dfs: List[pd.DataFrame], \n",
    "                 legend: List[str],\n",
    "                 save_path: pathlib.Path,\n",
    "                 column: str,\n",
    "                 title: str,\n",
    "                 ylabel: str, \n",
    "                 xlabel: str,\n",
    "                 xscale: str = None,\n",
    "                 yscale: str = None,\n",
    "                 xlim = None,\n",
    "                 xticks: List[int] = None,\n",
    "                ) -> None:\n",
    "    for df, color in zip(dfs, colors):\n",
    "        plt.scatter(df.index, df[column], color=color, marker='D')\n",
    "        plt.plot(df.index, df[column], color=color)\n",
    "    plt.title(title)\n",
    "    plt.legend(legend)\n",
    "    plt.ylabel(ylabel)\n",
    "    plt.xlabel(xlabel)\n",
    "    plt.grid(color='lightgray', linestyle='--', linewidth=1)\n",
    "    if xscale:\n",
    "        plt.xscale(xscale)\n",
    "    if yscale:\n",
    "        plt.yscale(yscale)\n",
    "    if xlim:\n",
    "        plt.xlim(xlim)\n",
    "    if xticks:\n",
    "        plt.xticks(xticks)\n",
    "    plt.tight_layout()\n",
    "    plt.savefig(save_path / f'{title}.pdf', dpi=300, format='pdf')"
   ]
  },
  {
   "cell_type": "code",
   "execution_count": null,
   "metadata": {},
   "outputs": [],
   "source": [
    "def double_axis_plot(dataset_1: pd.DataFrame, \n",
    "                     dataset_2: pd.DataFrame,  \n",
    "                     save_path: pathlib.Path,\n",
    "                     legend: List[str],\n",
    "                     plot_type: str,\n",
    "                     title: str,\n",
    "                     xlabel: str,\n",
    "                     y_1_label: str,\n",
    "                     y_2_label: str,\n",
    "                     x: str,\n",
    "                     y_1: str = 'mns',\n",
    "                     y_2: str = 'cr',\n",
    "                     xscale: str = None,\n",
    "                     xlim = None,\n",
    "                     yscale = None,\n",
    "                     marker: str = 'D',\n",
    "                     colors: List[str] = colors,\n",
    "                     xticks: List[int] = None\n",
    "                    ) -> None:\n",
    "\n",
    "    fig, ax1 = plt.subplots()\n",
    "    \n",
    "    if plot_type == 'plot':\n",
    "        \n",
    "        ax1.set_xlabel(xlabel)\n",
    "        ax1.set_ylabel(y_1_label, color=colors[0])\n",
    "        ax1.set_title(title)\n",
    "        ax1.tick_params(axis='y', labelcolor=colors[0])\n",
    "        \n",
    "        ax1.scatter(dataset_1[x], dataset_1[y_1], color=colors[0], marker=marker)\n",
    "        ax1.plot(dataset_1[x], dataset_1[y_1], color=colors[0])\n",
    "\n",
    "        ax2 = ax1.twinx()  # instantiate a second axes that shares the same x-axis\n",
    "\n",
    "        ax2.set_ylabel(y_2_label, color=colors[1])  # we already handled the x-label with ax1\n",
    "        ax2.tick_params(axis='y', labelcolor=colors[1])\n",
    "        \n",
    "        ax2.scatter(dataset_1[x], dataset_2[y_2], color=colors[1], marker=marker)\n",
    "        ax2.plot(dataset_1[x], dataset_2[y_2], color=colors[1])\n",
    "\n",
    "        fig.tight_layout()  # otherwise the right y-label is slightly clipped\n",
    "        plt.grid(color='lightgray', linestyle='--', linewidth=1)\n",
    "        \n",
    "    if plot_type == 'scatter':\n",
    "        ax1.set_xlabel(xlabel)\n",
    "        ax1.set_ylabel(y_1_label, color=colors[0])\n",
    "        ax1.set_title(title)\n",
    "        ax1.tick_params(axis='y', labelcolor=colors[0])\n",
    "        \n",
    "        ax1.scatter(dataset_1[x], dataset_1[y_1], color=colors[0], marker=marker)\n",
    "        ax1.plot(dataset_1[x], dataset_1[y_1], color=colors[0])\n",
    "\n",
    "        ax2 = ax1.twinx()  # instantiate a second axes that shares the same x-axis\n",
    "\n",
    "        ax2.set_ylabel(y_2_label, color=colors[1])  # we already handled the x-label with ax1\n",
    "        ax2.tick_params(axis='y', labelcolor=colors[1])\n",
    "        ax2.scatter(dataset_1[x], dataset_2[y_2], color=colors[1], marker=marker)\n",
    "        ax2.plot(dataset_1[x], dataset_2[y_2], color=colors[1])\n",
    "\n",
    "        fig.tight_layout()  # otherwise the right y-label is slightly clipped\n",
    "        plt.grid(color='lightgray', linestyle='--', linewidth=1)\n",
    "        if xscale:\n",
    "            plt.xscale(xscale)\n",
    "        if yscale:\n",
    "            plt.yscale(yscale)\n",
    "        if xlim:\n",
    "            plt.xlim(xlim)\n",
    "        \n",
    "    if plot_type == 'bar':\n",
    "        ax1.set_xlabel(xlabel)\n",
    "        ax1.set_ylabel(y_1_label, color=colors[0])\n",
    "        ax1.set_title(title)\n",
    "        ax1.tick_params(axis='y', labelcolor=colors[0])\n",
    "        \n",
    "        ax1.bar(dataset_1[x], dataset_1[y_1], color=colors[0])\n",
    "\n",
    "        ax2 = ax1.twinx()  # instantiate a second axes that shares the same x-axis\n",
    "\n",
    "        ax2.set_ylabel(y_2_label, color=colors[1])  # we already handled the x-label with ax1\n",
    "        ax2.tick_params(axis='y', labelcolor=colors[1])\n",
    "        ax2.bar(dataset_1[x], dataset_2[y_2], color=colors[1])\n",
    "\n",
    "        fig.tight_layout()  # otherwise the right y-label is slightly clipped\n",
    "        plt.grid(color='lightgray', linestyle='--', linewidth=1)\n",
    "    if xticks:\n",
    "        plt.xticks(xticks)\n",
    "    plt.savefig(save_path / f'{title}.pdf', dpi=300, format='pdf')"
   ]
  },
  {
   "cell_type": "code",
   "execution_count": null,
   "metadata": {},
   "outputs": [],
   "source": [
    "def plot_hist(data, \n",
    "              save_path: pathlib.Path=None,  \n",
    "              title='Hist', \n",
    "              legend=None, \n",
    "              ylabel='y', \n",
    "              xlabel='x', \n",
    "              yscale=None,\n",
    "              bins=None,\n",
    "              colors=colors\n",
    "             ):\n",
    "    \"\"\"\n",
    "    Function plots histograms as lines\n",
    "    \n",
    "    param data: list of pandas DataFrame's\n",
    "    type data: list\n",
    "    \"\"\"\n",
    "    if bins:\n",
    "        bin_values, bin_edges, _ = plt.hist(data, bins=bins, color=colors[0])\n",
    "    else:\n",
    "        bin_values, bin_edges, _ = plt.hist(data, color=colors[0])\n",
    "        \n",
    "    bin_centers = 0.5*(bin_edges[1:]+bin_edges[:-1])\n",
    "    plt.ylabel(ylabel)\n",
    "    plt.xlabel(xlabel)\n",
    "    if yscale:\n",
    "        plt.yscale(yscale)\n",
    "    plt.title(title)\n",
    "    if legend:\n",
    "        plt.legend(legend)\n",
    "    plt.grid(color='lightgray', linestyle='--', linewidth=1)\n",
    "    if save_path:\n",
    "        plt.savefig(save_path / f'{title}.pdf', dpi=300, format='pdf')\n",
    "    plt.tight_layout()\n",
    "    plt.show()\n",
    "    \n",
    "    return bin_values, bin_edges, bin_centers"
   ]
  },
  {
   "cell_type": "code",
   "execution_count": null,
   "metadata": {},
   "outputs": [],
   "source": [
    "def plot_hist_line(data: pd.DataFrame, \n",
    "                   column: str, \n",
    "                   schemes: List[str], \n",
    "                   save_path: pathlib.Path, \n",
    "                   title: str, \n",
    "                   ylabel='y', \n",
    "                   xlabel='x',\n",
    "                   xscale=None,\n",
    "                   yscale=None,\n",
    "                   xlim=(0,4900)\n",
    "                  ) -> None:\n",
    "    \"\"\"\n",
    "    Function plots histograms as lines\n",
    "    \n",
    "    param data: list of pandas DataFrame's\n",
    "    type data: list\n",
    "    \"\"\"\n",
    "    \n",
    "#     num_sim = len(data[data.sa_type==schemes[0]][column])\n",
    "    \n",
    "#     data_copy = [data[data.sa_type==scheme][data.potential==0.][column] for scheme in schemes]\n",
    "    \n",
    "#     bin_values, bin_edges, bin_centers = plot_hist(data_copy, ylabel=ylabel, xlabel=xlabel)\n",
    "    \n",
    "#     bin_values = np.array(bin_values) * 100 / num_sim\n",
    "    \n",
    "#     for num_set in range(len(data_copy)):\n",
    "#         if len(data_copy)==1:\n",
    "#             plt.plot(bin_centers, bin_values)\n",
    "#         else:\n",
    "#             plt.plot(bin_centers, bin_values[num_set])\n",
    "\n",
    "    # data_copy = [data[data.sa_type==scheme][data.potential==0.][column] for scheme in schemes]\n",
    "    \n",
    "    fig, ax = plt.subplots(figsize=(7,4))\n",
    "    sbn.kdeplot(data[column], ax=ax, cumulative=True, bw=0.01)\n",
    "        \n",
    "    plt.ylabel(ylabel)\n",
    "    plt.xlabel(xlabel)\n",
    "    if xscale:\n",
    "        plt.xscale(xscale)\n",
    "    if yscale:\n",
    "        plt.yscale(yscale)\n",
    "    plt.title(title)\n",
    "    plt.legend(schemes)\n",
    "    plt.grid(color='lightgray', linestyle='--', linewidth=1)\n",
    "    plt.xlim(xlim)\n",
    "    plt.tight_layout()\n",
    "    plt.savefig(save_path / f'{title}.pdf', dpi=300, format='pdf')\n",
    "    plt.show()"
   ]
  },
  {
   "cell_type": "code",
   "execution_count": null,
   "metadata": {},
   "outputs": [],
   "source": [
    "def plot_bar(data: pd.DataFrame, \n",
    "                   column: str, \n",
    "                   groupby: str,\n",
    "                   schemes: List[str], \n",
    "                   save_path: pathlib.Path, \n",
    "                   title: str, \n",
    "                   ylabel='y', \n",
    "                   xlabel='x',\n",
    "                   xscale=None,\n",
    "                   yscale=None,\n",
    "                   xlim=(0,4900)\n",
    "                  ) -> None:\n",
    "    data.groupby(groupby).mean()[column].plot.bar()\n",
    "    plt.ylabel(ylabel)\n",
    "    plt.xlabel(xlabel)\n",
    "    if xscale:\n",
    "        plt.xscale(xscale)\n",
    "    if yscale:\n",
    "        plt.yscale(yscale)\n",
    "    plt.title(title)\n",
    "    plt.legend(schemes)\n",
    "    plt.grid(color='lightgray', linestyle='--', linewidth=1)\n",
    "    plt.tight_layout()\n",
    "    plt.savefig(save_path / f'{title}.pdf', dpi=300, format='pdf')\n",
    "    plt.show()"
   ]
  },
  {
   "cell_type": "code",
   "execution_count": null,
   "metadata": {},
   "outputs": [],
   "source": [
    "plot_hist_line(df_evencheck_pt_example, \n",
    "               schemes=['pt'], \n",
    "               column='iteration', \n",
    "               save_path=CHARTS_MAIN_PATH, \n",
    "               title='Parallel Tempering example run - EVENCHECK',\n",
    "               ylabel='Cumulative KDE density',\n",
    "               xlabel='simulation step - when solution was found'\n",
    "              )"
   ]
  },
  {
   "cell_type": "code",
   "execution_count": null,
   "metadata": {},
   "outputs": [],
   "source": [
    "plot_hist(data=df_evencheck_pt_example.switch_ratio,\n",
    "          save_path=CHARTS_MAIN_PATH,\n",
    "          title='Histogram of switch_ratio values - PT example',\n",
    "          xlabel='switch_ratio value',\n",
    "          ylabel='counts',\n",
    "          bins=20\n",
    "         )"
   ]
  },
  {
   "cell_type": "markdown",
   "metadata": {},
   "source": [
    "## Solution goodness vs switch_step"
   ]
  },
  {
   "cell_type": "code",
   "execution_count": null,
   "metadata": {},
   "outputs": [],
   "source": [
    "switch_step_mns = calc_mns_series(df_evencheck_pt_diff_switch_step, groupby='switch_step')"
   ]
  },
  {
   "cell_type": "code",
   "execution_count": null,
   "metadata": {},
   "outputs": [],
   "source": [
    "switch_step_cr = calc_cr_series(df_evencheck_pt_diff_switch_step, groupby='switch_step')"
   ]
  },
  {
   "cell_type": "code",
   "execution_count": null,
   "metadata": {},
   "outputs": [],
   "source": [
    "plot_bar(switch_step_cr, \n",
    "         schemes=['pt'], \n",
    "         column='cr',\n",
    "         groupby='switch_step',\n",
    "         save_path=CHARTS_MAIN_PATH, \n",
    "         title='Parallel Tempering switch_step tuning CR - EVENCHECK',\n",
    "         ylabel='Correct Rate (CR)',\n",
    "         xlabel='switch_step'\n",
    "         )"
   ]
  },
  {
   "cell_type": "code",
   "execution_count": null,
   "metadata": {},
   "outputs": [],
   "source": [
    "plot_bar(switch_step_mns, \n",
    "         schemes=['pt'], \n",
    "         column='mns',\n",
    "         groupby='switch_step',\n",
    "         save_path=CHARTS_MAIN_PATH, \n",
    "         title='Parallel Tempering switch_step tuning MNS - EVENCHECK',\n",
    "         ylabel='Mean Number of Steps (MNS)',\n",
    "         xlabel='switch_step'\n",
    "         )"
   ]
  },
  {
   "cell_type": "markdown",
   "metadata": {},
   "source": [
    "## Solution goodness vs Optimal Temperatures ratio"
   ]
  },
  {
   "cell_type": "code",
   "execution_count": null,
   "metadata": {},
   "outputs": [],
   "source": [
    "plot_hist_line(df_evencheck_pt_optimal_temp_calc, \n",
    "               schemes=['pt'], \n",
    "               column='iteration', \n",
    "               save_path=CHARTS_MAIN_PATH, \n",
    "               title='Parallel Tempering, temperatures calculated - EVENCHECK',\n",
    "               ylabel='Cumulative KDE density',\n",
    "               xlabel='simulation step - when solution was found'\n",
    "              )"
   ]
  },
  {
   "cell_type": "markdown",
   "metadata": {},
   "source": [
    "#### Comment\n",
    "\n",
    "Using the technique from the paper on Parallel Tempering - the overall quality of the solution is not better. "
   ]
  },
  {
   "cell_type": "markdown",
   "metadata": {},
   "source": [
    "### Acceptance ratio"
   ]
  },
  {
   "cell_type": "code",
   "execution_count": null,
   "metadata": {},
   "outputs": [],
   "source": [
    "mean_acc_ratio = df_evencheck_pt_optimal_temp_calc.switch_ratio.mean()\n",
    "\n",
    "Markdown(f\"#### Mean switch ratio: {mean_acc_ratio}\")"
   ]
  },
  {
   "cell_type": "markdown",
   "metadata": {},
   "source": [
    "#### Comment \n",
    "\n",
    "The switch ratio is to big for this example. It should be considered to review the parameter in the calculation of optimal temperatures."
   ]
  },
  {
   "cell_type": "code",
   "execution_count": null,
   "metadata": {},
   "outputs": [],
   "source": [
    "plot_hist(data=df_evencheck_pt_optimal_temp_calc.switch_ratio,\n",
    "          save_path=CHARTS_MAIN_PATH,\n",
    "          title='Histogram of switch_ratio values - temperature ratio optimization',\n",
    "          xlabel='switch_ratio value',\n",
    "          ylabel='counts',\n",
    "          bins=20\n",
    "         )"
   ]
  },
  {
   "cell_type": "markdown",
   "metadata": {},
   "source": [
    "#### Comment\n",
    "\n",
    "As we can see the acceptance ratio equals to 1 in 2/3 of the simulations. It should be considered as not desired behavior. Therefore the differences in the annealing_parameter between systems should be reconsidered."
   ]
  },
  {
   "cell_type": "markdown",
   "metadata": {},
   "source": [
    "## Optimal number of copies"
   ]
  },
  {
   "cell_type": "code",
   "execution_count": null,
   "metadata": {},
   "outputs": [],
   "source": [
    "double_axis_plot(calc_mns_series(df_evencheck_pt_optimal_number_of_copies, groupby='pt_copies'),\n",
    "                 calc_cr_series(df_evencheck_pt_optimal_number_of_copies, groupby='pt_copies'),\n",
    "                 colors=colors,\n",
    "                 save_path=CHARTS_MAIN_PATH,\n",
    "                 legend=['mns', 'cr'],\n",
    "                 plot_type='scatter',\n",
    "                 title='CR and MNS for different number_of_copies - Parallel Tempering, EVENCHECK',\n",
    "                 xlabel='number of pt_copies',\n",
    "                 y_1_label='Mean Number of Steps',\n",
    "                 y_2_label='Correct Rate - CR [%]',\n",
    "                 x='pt_copies',\n",
    "                 y_1='mns',\n",
    "                 y_2='cr',\n",
    "                 xscale=None,\n",
    "                 xticks=list(df_evencheck_pt_optimal_number_of_copies.pt_copies.unique())\n",
    "                )"
   ]
  },
  {
   "cell_type": "markdown",
   "metadata": {},
   "source": [
    "### switch_ratio for the Optimal number of copies"
   ]
  },
  {
   "cell_type": "code",
   "execution_count": null,
   "metadata": {},
   "outputs": [],
   "source": [
    "plot_scatter([df_evencheck_pt_optimal_number_of_copies.groupby(['pt_copies']).mean()],\n",
    "             legend=['evencheck'], \n",
    "             save_path=CHARTS_MAIN_PATH, \n",
    "             column='switch_ratio',\n",
    "             title='Mean switch_ratio vs number of pt_copies',\n",
    "             xlabel='number of pt_copies',\n",
    "             ylabel='Mean switch_ratio',\n",
    "             xticks=list(df_evencheck_pt_optimal_number_of_copies.pt_copies.unique())\n",
    "            )"
   ]
  },
  {
   "cell_type": "markdown",
   "metadata": {},
   "source": [
    "### optimal number of copies switch_ratio hist"
   ]
  },
  {
   "cell_type": "code",
   "execution_count": null,
   "metadata": {},
   "outputs": [],
   "source": [
    "plot_hist(data=df_evencheck_pt_optimal_number_of_copies[df_evencheck_pt_optimal_number_of_copies.pt_copies == 99].switch_ratio,\n",
    "          save_path=CHARTS_MAIN_PATH,\n",
    "          title='Histogram of switch_ratio values - number_of_copies optimization',\n",
    "          xlabel='switch_ratio value',\n",
    "          ylabel='counts',\n",
    "          bins=20\n",
    "         )"
   ]
  },
  {
   "cell_type": "markdown",
   "metadata": {},
   "source": [
    "## optimal max_steps value"
   ]
  },
  {
   "cell_type": "code",
   "execution_count": null,
   "metadata": {},
   "outputs": [],
   "source": [
    "double_axis_plot(calc_mns_series(df_evencheck_pt_optimal_number_of_max_steps, groupby='max_steps'),\n",
    "                 calc_cr_series(df_evencheck_pt_optimal_number_of_max_steps, groupby='max_steps'),\n",
    "                 colors=colors,\n",
    "                 save_path=CHARTS_MAIN_PATH,\n",
    "                 legend=['mns', 'cr'],\n",
    "                 plot_type='scatter',\n",
    "                 title='CR and MNS for different max_steps - Parallel Tempering, EVENCHECK',\n",
    "                 xlabel='number of max_steps',\n",
    "                 y_1_label='Mean Number of Steps',\n",
    "                 y_2_label='Correct Rate - CR [%]',\n",
    "                 x='max_steps',\n",
    "                 y_1='mns',\n",
    "                 y_2='cr',\n",
    "                 xscale='log',\n",
    "                 #xticks=list(df_evencheck_pt_optimal_number_of_max_steps.pt_copies.unique())\n",
    "                )"
   ]
  },
  {
   "cell_type": "markdown",
   "metadata": {},
   "source": [
    "## KDE for 99 copies"
   ]
  },
  {
   "cell_type": "code",
   "execution_count": null,
   "metadata": {},
   "outputs": [],
   "source": [
    "plot_hist_line(df_evencheck_pt_optimal_number_of_copies[df_evencheck_pt_optimal_number_of_copies.pt_copies==99], \n",
    "               schemes=['pt'], \n",
    "               column='iteration', \n",
    "               save_path=CHARTS_MAIN_PATH, \n",
    "               title='Parallel Tempering, 99 pt_copies - EVENCHECK',\n",
    "               ylabel='Cumulative KDE density',\n",
    "               xlabel='simulation step - when solution was found',\n",
    "               xlim=(0, 3500)\n",
    "              )"
   ]
  },
  {
   "cell_type": "markdown",
   "metadata": {},
   "source": [
    "#### Comment\n",
    "\n",
    "Seem that more copies of the system could affect the accuracy of the algorithm, however one should say that the experiment was held using the same range of Temperatures, btu different sampling. It seem tought, that number of copies of the system highly affect the accuracy of the solution."
   ]
  }
 ],
 "metadata": {
  "kernelspec": {
   "display_name": "Python 3 (ipykernel)",
   "language": "python",
   "name": "python3"
  },
  "language_info": {
   "codemirror_mode": {
    "name": "ipython",
    "version": 3
   },
   "file_extension": ".py",
   "mimetype": "text/x-python",
   "name": "python",
   "nbconvert_exporter": "python",
   "pygments_lexer": "ipython3",
   "version": "3.8.10"
  }
 },
 "nbformat": 4,
 "nbformat_minor": 4
}
